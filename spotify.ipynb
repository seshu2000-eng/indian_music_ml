{
 "cells": [
  {
   "cell_type": "code",
   "execution_count": 1,
   "id": "713adcf9",
   "metadata": {},
   "outputs": [
    {
     "name": "stdout",
     "output_type": "stream",
     "text": [
      "Defaulting to user installation because normal site-packages is not writeable\n",
      "Requirement already satisfied: spotipy in c:\\users\\user\\appdata\\roaming\\python\\python313\\site-packages (2.25.1)\n",
      "Requirement already satisfied: redis>=3.5.3 in c:\\users\\user\\appdata\\roaming\\python\\python313\\site-packages (from spotipy) (6.4.0)\n",
      "Requirement already satisfied: requests>=2.25.0 in c:\\users\\user\\appdata\\roaming\\python\\python313\\site-packages (from spotipy) (2.32.4)\n",
      "Requirement already satisfied: urllib3>=1.26.0 in c:\\users\\user\\appdata\\roaming\\python\\python313\\site-packages (from spotipy) (2.5.0)\n",
      "Requirement already satisfied: charset_normalizer<4,>=2 in c:\\users\\user\\appdata\\roaming\\python\\python313\\site-packages (from requests>=2.25.0->spotipy) (3.4.2)\n",
      "Requirement already satisfied: idna<4,>=2.5 in c:\\users\\user\\appdata\\roaming\\python\\python313\\site-packages (from requests>=2.25.0->spotipy) (3.10)\n",
      "Requirement already satisfied: certifi>=2017.4.17 in c:\\users\\user\\appdata\\roaming\\python\\python313\\site-packages (from requests>=2.25.0->spotipy) (2025.7.14)\n",
      "Note: you may need to restart the kernel to use updated packages.\n"
     ]
    }
   ],
   "source": [
    "%pip install spotipy"
   ]
  },
  {
   "cell_type": "code",
   "execution_count": 2,
   "id": "df2b3532",
   "metadata": {},
   "outputs": [],
   "source": [
    "import spotipy\n",
    "import spotipy.oauth2 as oauth2\n",
    "from spotipy.oauth2 import SpotifyOAuth\n",
    "from spotipy.oauth2 import SpotifyClientCredentials\n",
    "\n",
    "\n",
    "\n",
    "import pandas as pd\n",
    "import time"
   ]
  },
  {
   "cell_type": "code",
   "execution_count": 3,
   "id": "bd254158",
   "metadata": {},
   "outputs": [
    {
     "name": "stdout",
     "output_type": "stream",
     "text": [
      "Defaulting to user installation because normal site-packages is not writeable\n",
      "Requirement already satisfied: dotenv in c:\\users\\user\\appdata\\roaming\\python\\python313\\site-packages (0.9.9)\n",
      "Requirement already satisfied: python-dotenv in c:\\users\\user\\appdata\\roaming\\python\\python313\\site-packages (from dotenv) (1.1.1)\n",
      "Note: you may need to restart the kernel to use updated packages.\n"
     ]
    },
    {
     "data": {
      "text/plain": [
       "True"
      ]
     },
     "execution_count": 3,
     "metadata": {},
     "output_type": "execute_result"
    }
   ],
   "source": [
    "%pip install dotenv\n",
    "from dotenv import load_dotenv\n",
    "load_dotenv()"
   ]
  },
  {
   "cell_type": "code",
   "execution_count": 6,
   "id": "88bbff7a",
   "metadata": {},
   "outputs": [
    {
     "data": {
      "text/plain": [
       "{'external_urls': {'spotify': 'https://open.spotify.com/artist/1mYsTxnqsietFxj1OgoGbG'},\n",
       " 'followers': {'href': None, 'total': 68286094},\n",
       " 'genres': ['tamil pop',\n",
       "  'kollywood',\n",
       "  'sufi',\n",
       "  'bollywood',\n",
       "  'hindi pop',\n",
       "  'tamil dance',\n",
       "  'desi'],\n",
       " 'href': 'https://api.spotify.com/v1/artists/1mYsTxnqsietFxj1OgoGbG',\n",
       " 'id': '1mYsTxnqsietFxj1OgoGbG',\n",
       " 'images': [{'url': 'https://i.scdn.co/image/ab6761610000e5ebb19af0ea736c6228d6eb539c',\n",
       "   'height': 640,\n",
       "   'width': 640},\n",
       "  {'url': 'https://i.scdn.co/image/ab67616100005174b19af0ea736c6228d6eb539c',\n",
       "   'height': 320,\n",
       "   'width': 320},\n",
       "  {'url': 'https://i.scdn.co/image/ab6761610000f178b19af0ea736c6228d6eb539c',\n",
       "   'height': 160,\n",
       "   'width': 160}],\n",
       " 'name': 'A.R. Rahman',\n",
       " 'popularity': 84,\n",
       " 'type': 'artist',\n",
       " 'uri': 'spotify:artist:1mYsTxnqsietFxj1OgoGbG'}"
      ]
     },
     "execution_count": 6,
     "metadata": {},
     "output_type": "execute_result"
    }
   ],
   "source": [
    "\n",
    "import spotipy.oauth2 as oauth2\n",
    "from spotipy.oauth2 import SpotifyOAuth\n",
    "client_id=\"95748d5c97504a8eb824dd53593a2c50\"\n",
    "client_secret=\"b4595e0d205d4d488fbf8d0a4e37639f\"\n",
    "\n",
    "auth_manager = SpotifyClientCredentials(client_id=client_id, client_secret=client_secret)\n",
    "sp = spotipy.Spotify(auth_manager=auth_manager)\n",
    "artist_id = \"https://open.spotify.com/artist/1mYsTxnqsietFxj1OgoGbG?si=PSCVD9PpQ7aAaoA_FtB3pA\"\n",
    "artist = sp.artist(artist_id)\n",
    "artist"
   ]
  },
  {
   "cell_type": "code",
   "execution_count": 7,
   "id": "58c398be",
   "metadata": {},
   "outputs": [
    {
     "data": {
      "text/plain": [
       "[{'external_urls': {'spotify': 'https://open.spotify.com/artist/2kkQthS9OLpK4UqNWYqoVl'},\n",
       "  'href': 'https://api.spotify.com/v1/artists/2kkQthS9OLpK4UqNWYqoVl',\n",
       "  'id': '2kkQthS9OLpK4UqNWYqoVl',\n",
       "  'name': 'Jeet Gannguli',\n",
       "  'type': 'artist',\n",
       "  'uri': 'spotify:artist:2kkQthS9OLpK4UqNWYqoVl'},\n",
       " {'external_urls': {'spotify': 'https://open.spotify.com/artist/4YRxDV8wJFPHPTeXepOstw'},\n",
       "  'href': 'https://api.spotify.com/v1/artists/4YRxDV8wJFPHPTeXepOstw',\n",
       "  'id': '4YRxDV8wJFPHPTeXepOstw',\n",
       "  'name': 'Arijit Singh',\n",
       "  'type': 'artist',\n",
       "  'uri': 'spotify:artist:4YRxDV8wJFPHPTeXepOstw'}]"
      ]
     },
     "execution_count": 7,
     "metadata": {},
     "output_type": "execute_result"
    }
   ],
   "source": [
    "name = [\"Arjit Singh\"]\n",
    "resu = sp.search(name)\n",
    "resu['tracks']['items'][1]['artists']"
   ]
  },
  {
   "cell_type": "code",
   "execution_count": 8,
   "id": "18a5f04d",
   "metadata": {},
   "outputs": [
    {
     "name": "stdout",
     "output_type": "stream",
     "text": [
      "Bollywood Reimagined: Bollywood Fusion Remix\n",
      "The Arijit Singh Collection Vol.3\n",
      "Arijit Singh Top Sad Love Hits\n",
      "Arijit Singh - King of Sad Hits\n",
      "Arijit Singh - Sad Love Songs\n",
      "Arijit Singh - Reprise and Unplugged Hits\n",
      "The Arijit Singh Collection Vol.2\n",
      "Arijit Singh Heartbreak Hits\n",
      "Arijit Singh - Unheard Gems\n",
      "Dil Jhoom With Arijit Singh\n",
      "Arijit Singh Ae Watan - Patriotic Hits\n",
      "Open Stage Recreations - Vol 79\n",
      "Open Stage X Spotlife Studio - Vol 6\n",
      "Open Stage Recreations - Vol 44\n",
      "Open Stage Recreations - Vol 25\n",
      "Open Stage Recreations - Vol 24\n",
      "Arijit Singh Patriotic Hits\n",
      "Non Stop Arijit Singh Hits\n",
      "Open Stage Covers - Vol 92\n",
      "Long Drive (Bollywood Mix)\n",
      "The Arijit Singh Collection\n",
      "Arijit Singh (All Time Hits)\n",
      "Arijit Singh Hits\n",
      "Arijit Singh - India Tour Hits\n",
      "Bismillah\n",
      "YRF Top 10 - Nightout Sounds\n",
      "YRF Top 10 - Bollywood Remixed\n",
      "Pagglait\n",
      "YRF Top 10 - Midnight Hour\n",
      "Acche Din, Acche Gaane\n",
      "Chokher Bahire (Original Motion Picture Soundtrack)\n",
      "Shudhu Tomari Jonyo\n",
      "Golpo Holeo Sotti\n",
      "Chander Pahar\n",
      "Bojhena Se Bojhena\n"
     ]
    }
   ],
   "source": [
    "Ani_albums = 'spotify:artist:4YRxDV8wJFPHPTeXepOstw'\n",
    "sp = spotipy.Spotify(auth_manager=auth_manager)\n",
    "\n",
    "results = sp.artist_albums(Ani_albums, album_type = 'album')\n",
    "\n",
    "albums = results['items']\n",
    "while results['next']:\n",
    "     results = sp.next(results)\n",
    "     albums.extend(results['items'])\n",
    "\n",
    "for album in albums:\n",
    "    print(album['name'])"
   ]
  },
  {
   "cell_type": "code",
   "execution_count": 9,
   "id": "be3c960d",
   "metadata": {},
   "outputs": [
    {
     "name": "stdout",
     "output_type": "stream",
     "text": [
      "Top 10 Tracks by Arjith singh (India):\n",
      "\n",
      "1. Song: Dhun (From \"Saiyaara\")\n",
      "Audio: https://open.spotify.com/track/1GFQthxDi4Tqe3wJ5j0G5S\n",
      "\n",
      "2. Song: Apna Bana Le\n",
      "Audio: https://open.spotify.com/track/1hA697u7e1jX2XM8sWA6Uy\n",
      "\n",
      "3. Song: Aavan Jaavan\n",
      "Audio: https://open.spotify.com/track/3x822BpQYSFMIB7P3uiJN0\n",
      "\n",
      "4. Song: Tujhe Kitna Chahne Lage (From \"Kabir Singh\")\n",
      "Audio: https://open.spotify.com/track/2Fv2injs4qAm8mJBGaxVKU\n",
      "\n",
      "5. Song: Tum Hi Ho\n",
      "Audio: https://open.spotify.com/track/56zZ48jdyY2oDXHVnwg5Di\n",
      "\n",
      "6. Song: Humdard (From \"Ek Villain\")\n",
      "Audio: https://open.spotify.com/track/5ZGtdGwdocDZDniXHkmnVA\n",
      "\n",
      "7. Song: Agar Tum Saath Ho (From \"Tamasha\")\n",
      "Audio: https://open.spotify.com/track/6kYoY0PhBelP64UMnhsEZx\n",
      "\n",
      "8. Song: Mast Magan (From \"2 States)\n",
      "Audio: https://open.spotify.com/track/5bVmOD7UKfP2iLFUGMtdnS\n",
      "\n",
      "9. Song: Sajni (From \"Laapataa Ladies\")\n",
      "Audio: https://open.spotify.com/track/5zCnGtCl5Ac5zlFHXaZmhy\n",
      "\n",
      "10. Song: Satranga (From \"ANIMAL\")\n",
      "Audio: https://open.spotify.com/track/3yHyiUDJdz02FZ6jfUbsmY\n",
      "\n"
     ]
    }
   ],
   "source": [
    "Ani_top_albums = \"spotify:artist:4YRxDV8wJFPHPTeXepOstw\"  # use just the artist ID, not the full URL\n",
    "\n",
    "# --- Step 3: Fetch top tracks in India (country code 'IN') ---\n",
    "results = sp.artist_top_tracks(Ani_top_albums, country=['US', 'SG', 'GB', 'IN', 'JP'])\n",
    "\n",
    "# --- Step 4: Print top 10 tracks ---\n",
    "print(\"Top 10 Tracks by Arjith singh (India):\\n\")\n",
    "for i, track in enumerate(results['tracks'][:10], 1):\n",
    "    print(f\"{i}. Song: {track['name']}\")\n",
    "    print(f\"Audio: {track['external_urls']['spotify']}\")\n",
    "\n",
    "    print()\n"
   ]
  },
  {
   "cell_type": "code",
   "execution_count": 10,
   "id": "6ef0a2b8",
   "metadata": {},
   "outputs": [
    {
     "name": "stdout",
     "output_type": "stream",
     "text": [
      "Defaulting to user installation because normal site-packages is not writeable\n",
      "Requirement already satisfied: spotipy in c:\\users\\user\\appdata\\roaming\\python\\python313\\site-packages (2.25.1)\n",
      "Requirement already satisfied: redis>=3.5.3 in c:\\users\\user\\appdata\\roaming\\python\\python313\\site-packages (from spotipy) (6.4.0)\n",
      "Requirement already satisfied: requests>=2.25.0 in c:\\users\\user\\appdata\\roaming\\python\\python313\\site-packages (from spotipy) (2.32.4)\n",
      "Requirement already satisfied: urllib3>=1.26.0 in c:\\users\\user\\appdata\\roaming\\python\\python313\\site-packages (from spotipy) (2.5.0)\n",
      "Requirement already satisfied: charset_normalizer<4,>=2 in c:\\users\\user\\appdata\\roaming\\python\\python313\\site-packages (from requests>=2.25.0->spotipy) (3.4.2)\n",
      "Requirement already satisfied: idna<4,>=2.5 in c:\\users\\user\\appdata\\roaming\\python\\python313\\site-packages (from requests>=2.25.0->spotipy) (3.10)\n",
      "Requirement already satisfied: certifi>=2017.4.17 in c:\\users\\user\\appdata\\roaming\\python\\python313\\site-packages (from requests>=2.25.0->spotipy) (2025.7.14)\n",
      "Note: you may need to restart the kernel to use updated packages.\n"
     ]
    }
   ],
   "source": [
    "%pip install --upgrade spotipy"
   ]
  },
  {
   "cell_type": "code",
   "execution_count": 40,
   "id": "57c5f0b1",
   "metadata": {},
   "outputs": [
    {
     "data": {
      "text/html": [
       "<div>\n",
       "<style scoped>\n",
       "    .dataframe tbody tr th:only-of-type {\n",
       "        vertical-align: middle;\n",
       "    }\n",
       "\n",
       "    .dataframe tbody tr th {\n",
       "        vertical-align: top;\n",
       "    }\n",
       "\n",
       "    .dataframe thead th {\n",
       "        text-align: right;\n",
       "    }\n",
       "</style>\n",
       "<table border=\"1\" class=\"dataframe\">\n",
       "  <thead>\n",
       "    <tr style=\"text-align: right;\">\n",
       "      <th></th>\n",
       "      <th>track_name</th>\n",
       "      <th>artist</th>\n",
       "      <th>album</th>\n",
       "      <th>release_date</th>\n",
       "      <th>popularity</th>\n",
       "      <th>track_id</th>\n",
       "    </tr>\n",
       "  </thead>\n",
       "  <tbody>\n",
       "    <tr>\n",
       "      <th>0</th>\n",
       "      <td>Kesariya</td>\n",
       "      <td>Pritam</td>\n",
       "      <td>Brahmastra (Original Motion Picture Soundtrack)</td>\n",
       "      <td>2022-10-06</td>\n",
       "      <td>68</td>\n",
       "      <td>4UMIv5jd9gK98a39BQRD9X</td>\n",
       "    </tr>\n",
       "    <tr>\n",
       "      <th>1</th>\n",
       "      <td>Pasoori</td>\n",
       "      <td>Ali Sethi</td>\n",
       "      <td>Pasoori</td>\n",
       "      <td>2022-02-07</td>\n",
       "      <td>59</td>\n",
       "      <td>7lvDsmTRXFE3dK4OjvRiWB</td>\n",
       "    </tr>\n",
       "    <tr>\n",
       "      <th>2</th>\n",
       "      <td>Ishq Wala Love</td>\n",
       "      <td>Vishal-Shekhar</td>\n",
       "      <td>Student of the Year (Original Motion Picture S...</td>\n",
       "      <td>2012-08-31</td>\n",
       "      <td>72</td>\n",
       "      <td>1hQia6rxgfM1ly2hE3StWp</td>\n",
       "    </tr>\n",
       "    <tr>\n",
       "      <th>3</th>\n",
       "      <td>Raataan Lambiyan (From \"Shershaah\")</td>\n",
       "      <td>Tanishk Bagchi</td>\n",
       "      <td>Raataan Lambiyan (From \"Shershaah\")</td>\n",
       "      <td>2021-07-30</td>\n",
       "      <td>71</td>\n",
       "      <td>2rOnSn2piaqLAlYjtfUBlY</td>\n",
       "    </tr>\n",
       "    <tr>\n",
       "      <th>4</th>\n",
       "      <td>Yaad Piya Ki Aane Lagi</td>\n",
       "      <td>Neha Kakkar</td>\n",
       "      <td>Yaad Piya Ki Aane Lagi</td>\n",
       "      <td>2019-11-16</td>\n",
       "      <td>61</td>\n",
       "      <td>0TkquWzzuxcrwbCWlTrKYF</td>\n",
       "    </tr>\n",
       "  </tbody>\n",
       "</table>\n",
       "</div>"
      ],
      "text/plain": [
       "                            track_name          artist  \\\n",
       "0                             Kesariya          Pritam   \n",
       "1                              Pasoori       Ali Sethi   \n",
       "2                       Ishq Wala Love  Vishal-Shekhar   \n",
       "3  Raataan Lambiyan (From \"Shershaah\")  Tanishk Bagchi   \n",
       "4               Yaad Piya Ki Aane Lagi     Neha Kakkar   \n",
       "\n",
       "                                               album release_date  popularity  \\\n",
       "0    Brahmastra (Original Motion Picture Soundtrack)   2022-10-06          68   \n",
       "1                                            Pasoori   2022-02-07          59   \n",
       "2  Student of the Year (Original Motion Picture S...   2012-08-31          72   \n",
       "3                Raataan Lambiyan (From \"Shershaah\")   2021-07-30          71   \n",
       "4                             Yaad Piya Ki Aane Lagi   2019-11-16          61   \n",
       "\n",
       "                 track_id  \n",
       "0  4UMIv5jd9gK98a39BQRD9X  \n",
       "1  7lvDsmTRXFE3dK4OjvRiWB  \n",
       "2  1hQia6rxgfM1ly2hE3StWp  \n",
       "3  2rOnSn2piaqLAlYjtfUBlY  \n",
       "4  0TkquWzzuxcrwbCWlTrKYF  "
      ]
     },
     "execution_count": 40,
     "metadata": {},
     "output_type": "execute_result"
    }
   ],
   "source": [
    "# Top 50 - India playlist\n",
    "playlist_id = \"https://open.spotify.com/playlist/44YDp4eCFJedE5QPRzGXPd?si=C2B1QIC8THiKaMAn2YAQdw\"  # Spotify Top 50 India\n",
    "\n",
    "results = sp.playlist_tracks(playlist_id, limit=50)\n",
    "\n",
    "songs = []\n",
    "for track in results['items']:\n",
    "    track_info = track['track']\n",
    "    songs.append({\n",
    "        \"track_name\": track_info['name'],\n",
    "        \"artist\": track_info['artists'][0]['name'],\n",
    "        \"album\": track_info['album']['name'],\n",
    "        \"release_date\": track_info['album']['release_date'],\n",
    "        \"popularity\": track_info['popularity'],\n",
    "        \"track_id\": track_info['id']\n",
    "    })\n",
    "\n",
    "df = pd.DataFrame(songs)\n",
    "df.head()\n"
   ]
  },
  {
   "cell_type": "code",
   "execution_count": 49,
   "id": "3dcc0e39",
   "metadata": {},
   "outputs": [
    {
     "name": "stdout",
     "output_type": "stream",
     "text": [
      "Raw response: {\n",
      "  \"error\": {\n",
      "    \"status\": 401,\n",
      "    \"message\": \"Invalid access token\"\n",
      "  }\n",
      "}\n",
      "{'error': {'status': 401, 'message': 'Invalid access token'}}\n"
     ]
    }
   ],
   "source": [
    "import http.client\n",
    "import json\n",
    "\n",
    "conn = http.client.HTTPSConnection(\"api.spotify.com\")\n",
    "\n",
    "track_id = \"https://open.spotify.com/track/3yHyiUDJdz02FZ6jfUbsmY\" # Example Spotify track ID\n",
    "endpoint = f\"/v1/audio-features/{track_id}\"\n",
    "\n",
    "headers = {\n",
    "    'Accept': 'application/json',\n",
    "    'Authorization': 'Bearer YOUR_ACCESS_TOKEN'   # 🔑 Very important!\n",
    "}\n",
    "\n",
    "conn.request(\"GET\", endpoint, \"\", headers)\n",
    "res = conn.getresponse()\n",
    "data = res.read()\n",
    "\n",
    "print(\"Raw response:\", data.decode(\"utf-8\"))  # Debugging\n",
    "\n",
    "# Try parsing JSON if response is valid\n",
    "try:\n",
    "    features = json.loads(data.decode(\"utf-8\"))\n",
    "    print(features)\n",
    "except json.JSONDecodeError:\n",
    "    print(\"⚠️ Response was not valid JSON.\")\n"
   ]
  },
  {
   "cell_type": "code",
   "execution_count": null,
   "id": "52ae20b5",
   "metadata": {},
   "outputs": [
    {
     "name": "stdout",
     "output_type": "stream",
     "text": [
      "🎵 Most Popular Song:\n",
      "                                           track_name             artist  \\\n",
      "0                                            Kesariya             Pritam   \n",
      "2                                      Ishq Wala Love     Vishal-Shekhar   \n",
      "3                 Raataan Lambiyan (From \"Shershaah\")     Tanishk Bagchi   \n",
      "4                              Yaad Piya Ki Aane Lagi        Neha Kakkar   \n",
      "6                                       Param Sundari        A.R. Rahman   \n",
      "7                                   Jhoome Jo Pathaan     Vishal-Shekhar   \n",
      "8                                               Jugnu            Badshah   \n",
      "9                                       Bijlee Bijlee      Harrdy Sandhu   \n",
      "10                     Besharam Rang (From \"Pathaan\")     Vishal-Shekhar   \n",
      "11                   O Saki Saki (From \"Batla House\")     Vishal-Shekhar   \n",
      "13                                 Illegal Weapon 2.0    Jasmine Sandlas   \n",
      "14  Garmi (From \"Street Dancer 3D\") (feat. Varun D...            Badshah   \n",
      "15           Ek Toh Kum Zindagani (From \"Marjaavaan\")        Neha Kakkar   \n",
      "17                      Psycho Saiyaan (From \"Saaho\")      Sachet Tandon   \n",
      "18                                         Dance Like      Harrdy Sandhu   \n",
      "20                                          Baby Girl      Guru Randhawa   \n",
      "22                                           Kamariya        Aastha Gill   \n",
      "23                                   Love You Zindagi       Amit Trivedi   \n",
      "24                                             Vaaste  Dhvani Bhanushali   \n",
      "26                     Coca Cola (From \"Luka Chuppi\")        Tony Kakkar   \n",
      "27                                        Kya Baat Ay      Harrdy Sandhu   \n",
      "28                      Genda Phool (feat. Payal Dev)            Badshah   \n",
      "30                                               Naah      Harrdy Sandhu   \n",
      "31                                        Paani Paani            Badshah   \n",
      "39                                    Bom Diggy Diggy        Zack Knight   \n",
      "40                Naach Meri Rani (Feat. Nora Fatehi)      Guru Randhawa   \n",
      "41                         Chogada (From \"Loveyatri\")      Darshan Raval   \n",
      "43                                              Mercy            Badshah   \n",
      "44                                   She Move It Like            Badshah   \n",
      "45                                Nashe Si Chadh Gayi     Vishal-Shekhar   \n",
      "47                   Gali Gali (From \"Kgf Chapter 1\")        Neha Kakkar   \n",
      "49                   Dilbar (From \"Satyameva Jayate\")        Neha Kakkar   \n",
      "\n",
      "    popularity  \n",
      "0           68  \n",
      "2           72  \n",
      "3           71  \n",
      "4           61  \n",
      "6           67  \n",
      "7           64  \n",
      "8           64  \n",
      "9           67  \n",
      "10          67  \n",
      "11          64  \n",
      "13          62  \n",
      "14          63  \n",
      "15          60  \n",
      "17          61  \n",
      "18          61  \n",
      "20          61  \n",
      "22          70  \n",
      "23          63  \n",
      "24          63  \n",
      "26          63  \n",
      "27          69  \n",
      "28          62  \n",
      "30          65  \n",
      "31          60  \n",
      "39          66  \n",
      "40          60  \n",
      "41          63  \n",
      "43          60  \n",
      "44          64  \n",
      "45          71  \n",
      "47          66  \n",
      "49          67  \n",
      "\n",
      "🎵 Least Popular Song:\n",
      "                                        track_name             artist  \\\n",
      "1                                          Pasoori          Ali Sethi   \n",
      "5               Dance Ka Bhoot (From \"Brahmastra\")             Pritam   \n",
      "12                                  The Disco Song     Vishal-Shekhar   \n",
      "16                                          Paagal            Badshah   \n",
      "19                                          Naagin               Vayu   \n",
      "21                                         Leja Re     Tanishk Bagchi   \n",
      "25                          Bad Boy (From \"Saaho\")            Badshah   \n",
      "29           Kusu Kusu (From \"Satyameva Jayate 2\")     Tanishk Bagchi   \n",
      "32                   Odhani (From \"Made in China\")       Sachin-Jigar   \n",
      "33              Koka (From \"Khandaani Shafakhana\")       Jasbir Jassi   \n",
      "34                                     Saara India        Aastha Gill   \n",
      "35                                           Nayan  Dhvani Bhanushali   \n",
      "36                  Chocolate (From \"Sangeetkaar\")        Tony Kakkar   \n",
      "37  Saami Saami (From \"Pushpa The Rise Part - 01\")    Sunidhi Chauhan   \n",
      "38             Main Tera Boyfriend (From \"Raabta\")       Arijit Singh   \n",
      "42       Dheeme Dheeme (From \"Pati Patni Aur Woh\")        Tony Kakkar   \n",
      "46                           Ghungroo (From \"War\")     Vishal-Shekhar   \n",
      "48           Nachi Nachi (From \"Street Dancer 3D\")        Neeti Mohan   \n",
      "\n",
      "    popularity  \n",
      "1           59  \n",
      "5           52  \n",
      "12          59  \n",
      "16          54  \n",
      "19          55  \n",
      "21          58  \n",
      "25          52  \n",
      "29          57  \n",
      "32          55  \n",
      "33          51  \n",
      "34          43  \n",
      "35          54  \n",
      "36          31  \n",
      "37          51  \n",
      "38          58  \n",
      "42          53  \n",
      "46          55  \n",
      "48          43  \n"
     ]
    }
   ],
   "source": [
    "# Highest popular song\n",
    "most_popular = df.loc[df['popularity'] >= 60, [\"track_name\", \"artist\", \"popularity\"]]    \n",
    "                                                                                   \n",
    "\n",
    "# Least popular song\n",
    "least_popular = df.loc[df['popularity'] < 60, [\"track_name\", \"artist\", \"popularity\"]]\n",
    "\n",
    "print(\" Most Popular Song:\")\n",
    "print(most_popular)\n",
    "\n",
    "print(\"\\n Least Popular Song:\")\n",
    "print(least_popular)\n"
   ]
  },
  {
   "cell_type": "code",
   "execution_count": 33,
   "id": "1c7400cf",
   "metadata": {},
   "outputs": [
    {
     "name": "stdout",
     "output_type": "stream",
     "text": [
      "<class 'pandas.core.frame.DataFrame'>\n",
      "RangeIndex: 50 entries, 0 to 49\n",
      "Data columns (total 6 columns):\n",
      " #   Column        Non-Null Count  Dtype \n",
      "---  ------        --------------  ----- \n",
      " 0   track_name    50 non-null     object\n",
      " 1   artist        50 non-null     object\n",
      " 2   album         50 non-null     object\n",
      " 3   release_date  50 non-null     object\n",
      " 4   popularity    50 non-null     int64 \n",
      " 5   track_id      50 non-null     object\n",
      "dtypes: int64(1), object(5)\n",
      "memory usage: 2.5+ KB\n"
     ]
    }
   ],
   "source": [
    "df.info()"
   ]
  },
  {
   "cell_type": "code",
   "execution_count": 59,
   "id": "bb7c1e0d",
   "metadata": {},
   "outputs": [
    {
     "data": {
      "application/vnd.plotly.v1+json": {
       "config": {
        "plotlyServerURL": "https://plot.ly"
       },
       "data": [
        {
         "customdata": [
          [
           "Pritam",
           "Brahmastra (Original Motion Picture Soundtrack)",
           "2022-10-06"
          ],
          [
           "Ali Sethi",
           "Pasoori",
           "2022-02-07"
          ],
          [
           "Vishal-Shekhar",
           "Student of the Year (Original Motion Picture Soundtrack)",
           "2012-08-31"
          ],
          [
           "Tanishk Bagchi",
           "Raataan Lambiyan (From \"Shershaah\")",
           "2021-07-30"
          ],
          [
           "Neha Kakkar",
           "Yaad Piya Ki Aane Lagi",
           "2019-11-16"
          ],
          [
           "Pritam",
           "Dance Ka Bhoot (From \"Brahmastra\")",
           "2022-08-25"
          ],
          [
           "A.R. Rahman",
           "Mimi (Original Motion Picture Soundtrack)",
           "2021-07-16"
          ],
          [
           "Vishal-Shekhar",
           "Pathaan",
           "2022-12-22"
          ],
          [
           "Badshah",
           "Jugnu",
           "2021-10-26"
          ],
          [
           "Harrdy Sandhu",
           "Bijlee Bijlee",
           "2021-10-30"
          ],
          [
           "Vishal-Shekhar",
           "Besharam Rang (From \"Pathaan\")",
           "2022-12-12"
          ],
          [
           "Vishal-Shekhar",
           "O Saki Saki (From \"Batla House\")",
           "2019-07-15"
          ],
          [
           "Vishal-Shekhar",
           "Student of the Year (Original Motion Picture Soundtrack)",
           "2012-08-31"
          ],
          [
           "Jasmine Sandlas",
           "Street Dancer 3D",
           "2020-02-13"
          ],
          [
           "Badshah",
           "Garmi (From \"Street Dancer 3D\")",
           "2019-12-26"
          ],
          [
           "Neha Kakkar",
           "Ek Toh Kum Zindagani (From \"Marjaavaan\")",
           "2019-10-10"
          ],
          [
           "Badshah",
           "Paagal",
           "2019-07-10"
          ],
          [
           "Sachet Tandon",
           "Psycho Saiyaan (From \"Saaho\")",
           "2019-07-08"
          ],
          [
           "Harrdy Sandhu",
           "Dance Like",
           "2019-11-30"
          ],
          [
           "Vayu",
           "Naagin",
           "2019-10-17"
          ],
          [
           "Guru Randhawa",
           "Baby Girl",
           "2020-10-01"
          ],
          [
           "Tanishk Bagchi",
           "Leja Re",
           "2018-11-24"
          ],
          [
           "Aastha Gill",
           "Stree",
           "2018-08-22"
          ],
          [
           "Amit Trivedi",
           "Dear Zindagi (Original Motion Picture Soundtrack)",
           "2016-11-15"
          ],
          [
           "Dhvani Bhanushali",
           "Vaaste",
           "2019-04-06"
          ],
          [
           "Badshah",
           "Bad Boy (From \"Saaho\")",
           "2019-08-19"
          ],
          [
           "Tony Kakkar",
           "Coca Cola (From \"Luka Chuppi\")",
           "2019-02-04"
          ],
          [
           "Harrdy Sandhu",
           "Kya Baat Ay",
           "2018-09-24"
          ],
          [
           "Badshah",
           "Genda Phool (feat. Payal Dev)",
           "2020-03-26"
          ],
          [
           "Tanishk Bagchi",
           "Kusu Kusu (From \"Satyameva Jayate 2\")",
           "2021-11-10"
          ],
          [
           "Harrdy Sandhu",
           "Naah",
           "2017-11-30"
          ],
          [
           "Badshah",
           "Paani Paani",
           "2021-06-09"
          ],
          [
           "Sachin-Jigar",
           "Odhani (From \"Made in China\")",
           "2019-09-24"
          ],
          [
           "Jasbir Jassi",
           "Koka (From \"Khandaani Shafakhana\")",
           "2019-06-28"
          ],
          [
           "Aastha Gill",
           "Saara India",
           "2019-05-03"
          ],
          [
           "Dhvani Bhanushali",
           "Nayan",
           "2020-12-08"
          ],
          [
           "Tony Kakkar",
           "Chocolate (From \"Sangeetkaar\")",
           "2020-09-09"
          ],
          [
           "Sunidhi Chauhan",
           "Saami Saami (From \"Pushpa The Rise Part - 01\")",
           "2021-12-13"
          ],
          [
           "Arijit Singh",
           "Groove With Arijit Singh",
           "2019-05-22"
          ],
          [
           "Zack Knight",
           "Bom Diggy Diggy (From \"Sonu Ke Titu Ki Sweety\")",
           "2018-02-08"
          ],
          [
           "Guru Randhawa",
           "Naach Meri Rani (Feat. Nora Fatehi)",
           "2020-10-20"
          ],
          [
           "Darshan Raval",
           "Chogada (From \"Loveyatri\")",
           "2018-08-14"
          ],
          [
           "Tony Kakkar",
           "Dheeme Dheeme (From \"Pati Patni Aur Woh\")",
           "2019-11-11"
          ],
          [
           "Badshah",
           "ONE (Original Never Ends)",
           "2018-08-17"
          ],
          [
           "Badshah",
           "ONE (Original Never Ends)",
           "2018-08-17"
          ],
          [
           "Vishal-Shekhar",
           "Befikre",
           "2016-12-01"
          ],
          [
           "Vishal-Shekhar",
           "YRF Top 10 - Nightout Sounds",
           "2021-05-04"
          ],
          [
           "Neha Kakkar",
           "Gali Gali (From \"Kgf Chapter 1\")",
           "2018-12-13"
          ],
          [
           "Neeti Mohan",
           "Nachi Nachi (From \"Street Dancer 3D\")",
           "2020-01-29"
          ],
          [
           "Neha Kakkar",
           "Dilbar (From \"Satyameva Jayate\")",
           "2018-07-04"
          ]
         ],
         "hovertemplate": "track_name=%{x}<br>popularity=%{marker.color}<br>artist=%{customdata[0]}<br>album=%{customdata[1]}<br>release_date=%{customdata[2]}<extra></extra>",
         "legendgroup": "",
         "marker": {
          "color": {
           "bdata": "RDtIRz00Q0BAQ0NAOz4/PDY9PTc9OkY/PzQ/RT45QTw3Mys2HzM6Qjw/NTxARzdCK0M=",
           "dtype": "i1"
          },
          "coloraxis": "coloraxis",
          "size": {
           "bdata": "RDtIRz00Q0BAQ0NAOz4/PDY9PTc9OkY/PzQ/RT45QTw3Mys2HzM6Qjw/NTxARzdCK0M=",
           "dtype": "i1"
          },
          "sizemode": "area",
          "sizeref": 0.18,
          "symbol": "circle"
         },
         "mode": "markers",
         "name": "",
         "orientation": "v",
         "showlegend": false,
         "type": "scatter",
         "x": [
          "Kesariya",
          "Pasoori",
          "Ishq Wala Love",
          "Raataan Lambiyan (From \"Shershaah\")",
          "Yaad Piya Ki Aane Lagi",
          "Dance Ka Bhoot (From \"Brahmastra\")",
          "Param Sundari",
          "Jhoome Jo Pathaan",
          "Jugnu",
          "Bijlee Bijlee",
          "Besharam Rang (From \"Pathaan\")",
          "O Saki Saki (From \"Batla House\")",
          "The Disco Song",
          "Illegal Weapon 2.0",
          "Garmi (From \"Street Dancer 3D\") (feat. Varun Dhawan)",
          "Ek Toh Kum Zindagani (From \"Marjaavaan\")",
          "Paagal",
          "Psycho Saiyaan (From \"Saaho\")",
          "Dance Like",
          "Naagin",
          "Baby Girl",
          "Leja Re",
          "Kamariya",
          "Love You Zindagi",
          "Vaaste",
          "Bad Boy (From \"Saaho\")",
          "Coca Cola (From \"Luka Chuppi\")",
          "Kya Baat Ay",
          "Genda Phool (feat. Payal Dev)",
          "Kusu Kusu (From \"Satyameva Jayate 2\")",
          "Naah",
          "Paani Paani",
          "Odhani (From \"Made in China\")",
          "Koka (From \"Khandaani Shafakhana\")",
          "Saara India",
          "Nayan",
          "Chocolate (From \"Sangeetkaar\")",
          "Saami Saami (From \"Pushpa The Rise Part - 01\")",
          "Main Tera Boyfriend (From \"Raabta\")",
          "Bom Diggy Diggy",
          "Naach Meri Rani (Feat. Nora Fatehi)",
          "Chogada (From \"Loveyatri\")",
          "Dheeme Dheeme (From \"Pati Patni Aur Woh\")",
          "Mercy",
          "She Move It Like",
          "Nashe Si Chadh Gayi",
          "Ghungroo (From \"War\")",
          "Gali Gali (From \"Kgf Chapter 1\")",
          "Nachi Nachi (From \"Street Dancer 3D\")",
          "Dilbar (From \"Satyameva Jayate\")"
         ],
         "xaxis": "x",
         "y": {
          "bdata": "RDtIRz00Q0BAQ0NAOz4/PDY9PTc9OkY/PzQ/RT45QTw3Mys2HzM6Qjw/NTxARzdCK0M=",
          "dtype": "i1"
         },
         "yaxis": "y"
        }
       ],
       "layout": {
        "coloraxis": {
         "colorbar": {
          "title": {
           "text": "popularity"
          }
         },
         "colorscale": [
          [
           0,
           "rgb(247,251,255)"
          ],
          [
           0.125,
           "rgb(222,235,247)"
          ],
          [
           0.25,
           "rgb(198,219,239)"
          ],
          [
           0.375,
           "rgb(158,202,225)"
          ],
          [
           0.5,
           "rgb(107,174,214)"
          ],
          [
           0.625,
           "rgb(66,146,198)"
          ],
          [
           0.75,
           "rgb(33,113,181)"
          ],
          [
           0.875,
           "rgb(8,81,156)"
          ],
          [
           1,
           "rgb(8,48,107)"
          ]
         ]
        },
        "height": 1000,
        "legend": {
         "itemsizing": "constant",
         "tracegroupgap": 0
        },
        "template": {
         "data": {
          "bar": [
           {
            "error_x": {
             "color": "#2a3f5f"
            },
            "error_y": {
             "color": "#2a3f5f"
            },
            "marker": {
             "line": {
              "color": "#E5ECF6",
              "width": 0.5
             },
             "pattern": {
              "fillmode": "overlay",
              "size": 10,
              "solidity": 0.2
             }
            },
            "type": "bar"
           }
          ],
          "barpolar": [
           {
            "marker": {
             "line": {
              "color": "#E5ECF6",
              "width": 0.5
             },
             "pattern": {
              "fillmode": "overlay",
              "size": 10,
              "solidity": 0.2
             }
            },
            "type": "barpolar"
           }
          ],
          "carpet": [
           {
            "aaxis": {
             "endlinecolor": "#2a3f5f",
             "gridcolor": "white",
             "linecolor": "white",
             "minorgridcolor": "white",
             "startlinecolor": "#2a3f5f"
            },
            "baxis": {
             "endlinecolor": "#2a3f5f",
             "gridcolor": "white",
             "linecolor": "white",
             "minorgridcolor": "white",
             "startlinecolor": "#2a3f5f"
            },
            "type": "carpet"
           }
          ],
          "choropleth": [
           {
            "colorbar": {
             "outlinewidth": 0,
             "ticks": ""
            },
            "type": "choropleth"
           }
          ],
          "contour": [
           {
            "colorbar": {
             "outlinewidth": 0,
             "ticks": ""
            },
            "colorscale": [
             [
              0,
              "#0d0887"
             ],
             [
              0.1111111111111111,
              "#46039f"
             ],
             [
              0.2222222222222222,
              "#7201a8"
             ],
             [
              0.3333333333333333,
              "#9c179e"
             ],
             [
              0.4444444444444444,
              "#bd3786"
             ],
             [
              0.5555555555555556,
              "#d8576b"
             ],
             [
              0.6666666666666666,
              "#ed7953"
             ],
             [
              0.7777777777777778,
              "#fb9f3a"
             ],
             [
              0.8888888888888888,
              "#fdca26"
             ],
             [
              1,
              "#f0f921"
             ]
            ],
            "type": "contour"
           }
          ],
          "contourcarpet": [
           {
            "colorbar": {
             "outlinewidth": 0,
             "ticks": ""
            },
            "type": "contourcarpet"
           }
          ],
          "heatmap": [
           {
            "colorbar": {
             "outlinewidth": 0,
             "ticks": ""
            },
            "colorscale": [
             [
              0,
              "#0d0887"
             ],
             [
              0.1111111111111111,
              "#46039f"
             ],
             [
              0.2222222222222222,
              "#7201a8"
             ],
             [
              0.3333333333333333,
              "#9c179e"
             ],
             [
              0.4444444444444444,
              "#bd3786"
             ],
             [
              0.5555555555555556,
              "#d8576b"
             ],
             [
              0.6666666666666666,
              "#ed7953"
             ],
             [
              0.7777777777777778,
              "#fb9f3a"
             ],
             [
              0.8888888888888888,
              "#fdca26"
             ],
             [
              1,
              "#f0f921"
             ]
            ],
            "type": "heatmap"
           }
          ],
          "histogram": [
           {
            "marker": {
             "pattern": {
              "fillmode": "overlay",
              "size": 10,
              "solidity": 0.2
             }
            },
            "type": "histogram"
           }
          ],
          "histogram2d": [
           {
            "colorbar": {
             "outlinewidth": 0,
             "ticks": ""
            },
            "colorscale": [
             [
              0,
              "#0d0887"
             ],
             [
              0.1111111111111111,
              "#46039f"
             ],
             [
              0.2222222222222222,
              "#7201a8"
             ],
             [
              0.3333333333333333,
              "#9c179e"
             ],
             [
              0.4444444444444444,
              "#bd3786"
             ],
             [
              0.5555555555555556,
              "#d8576b"
             ],
             [
              0.6666666666666666,
              "#ed7953"
             ],
             [
              0.7777777777777778,
              "#fb9f3a"
             ],
             [
              0.8888888888888888,
              "#fdca26"
             ],
             [
              1,
              "#f0f921"
             ]
            ],
            "type": "histogram2d"
           }
          ],
          "histogram2dcontour": [
           {
            "colorbar": {
             "outlinewidth": 0,
             "ticks": ""
            },
            "colorscale": [
             [
              0,
              "#0d0887"
             ],
             [
              0.1111111111111111,
              "#46039f"
             ],
             [
              0.2222222222222222,
              "#7201a8"
             ],
             [
              0.3333333333333333,
              "#9c179e"
             ],
             [
              0.4444444444444444,
              "#bd3786"
             ],
             [
              0.5555555555555556,
              "#d8576b"
             ],
             [
              0.6666666666666666,
              "#ed7953"
             ],
             [
              0.7777777777777778,
              "#fb9f3a"
             ],
             [
              0.8888888888888888,
              "#fdca26"
             ],
             [
              1,
              "#f0f921"
             ]
            ],
            "type": "histogram2dcontour"
           }
          ],
          "mesh3d": [
           {
            "colorbar": {
             "outlinewidth": 0,
             "ticks": ""
            },
            "type": "mesh3d"
           }
          ],
          "parcoords": [
           {
            "line": {
             "colorbar": {
              "outlinewidth": 0,
              "ticks": ""
             }
            },
            "type": "parcoords"
           }
          ],
          "pie": [
           {
            "automargin": true,
            "type": "pie"
           }
          ],
          "scatter": [
           {
            "fillpattern": {
             "fillmode": "overlay",
             "size": 10,
             "solidity": 0.2
            },
            "type": "scatter"
           }
          ],
          "scatter3d": [
           {
            "line": {
             "colorbar": {
              "outlinewidth": 0,
              "ticks": ""
             }
            },
            "marker": {
             "colorbar": {
              "outlinewidth": 0,
              "ticks": ""
             }
            },
            "type": "scatter3d"
           }
          ],
          "scattercarpet": [
           {
            "marker": {
             "colorbar": {
              "outlinewidth": 0,
              "ticks": ""
             }
            },
            "type": "scattercarpet"
           }
          ],
          "scattergeo": [
           {
            "marker": {
             "colorbar": {
              "outlinewidth": 0,
              "ticks": ""
             }
            },
            "type": "scattergeo"
           }
          ],
          "scattergl": [
           {
            "marker": {
             "colorbar": {
              "outlinewidth": 0,
              "ticks": ""
             }
            },
            "type": "scattergl"
           }
          ],
          "scattermap": [
           {
            "marker": {
             "colorbar": {
              "outlinewidth": 0,
              "ticks": ""
             }
            },
            "type": "scattermap"
           }
          ],
          "scattermapbox": [
           {
            "marker": {
             "colorbar": {
              "outlinewidth": 0,
              "ticks": ""
             }
            },
            "type": "scattermapbox"
           }
          ],
          "scatterpolar": [
           {
            "marker": {
             "colorbar": {
              "outlinewidth": 0,
              "ticks": ""
             }
            },
            "type": "scatterpolar"
           }
          ],
          "scatterpolargl": [
           {
            "marker": {
             "colorbar": {
              "outlinewidth": 0,
              "ticks": ""
             }
            },
            "type": "scatterpolargl"
           }
          ],
          "scatterternary": [
           {
            "marker": {
             "colorbar": {
              "outlinewidth": 0,
              "ticks": ""
             }
            },
            "type": "scatterternary"
           }
          ],
          "surface": [
           {
            "colorbar": {
             "outlinewidth": 0,
             "ticks": ""
            },
            "colorscale": [
             [
              0,
              "#0d0887"
             ],
             [
              0.1111111111111111,
              "#46039f"
             ],
             [
              0.2222222222222222,
              "#7201a8"
             ],
             [
              0.3333333333333333,
              "#9c179e"
             ],
             [
              0.4444444444444444,
              "#bd3786"
             ],
             [
              0.5555555555555556,
              "#d8576b"
             ],
             [
              0.6666666666666666,
              "#ed7953"
             ],
             [
              0.7777777777777778,
              "#fb9f3a"
             ],
             [
              0.8888888888888888,
              "#fdca26"
             ],
             [
              1,
              "#f0f921"
             ]
            ],
            "type": "surface"
           }
          ],
          "table": [
           {
            "cells": {
             "fill": {
              "color": "#EBF0F8"
             },
             "line": {
              "color": "white"
             }
            },
            "header": {
             "fill": {
              "color": "#C8D4E3"
             },
             "line": {
              "color": "white"
             }
            },
            "type": "table"
           }
          ]
         },
         "layout": {
          "annotationdefaults": {
           "arrowcolor": "#2a3f5f",
           "arrowhead": 0,
           "arrowwidth": 1
          },
          "autotypenumbers": "strict",
          "coloraxis": {
           "colorbar": {
            "outlinewidth": 0,
            "ticks": ""
           }
          },
          "colorscale": {
           "diverging": [
            [
             0,
             "#8e0152"
            ],
            [
             0.1,
             "#c51b7d"
            ],
            [
             0.2,
             "#de77ae"
            ],
            [
             0.3,
             "#f1b6da"
            ],
            [
             0.4,
             "#fde0ef"
            ],
            [
             0.5,
             "#f7f7f7"
            ],
            [
             0.6,
             "#e6f5d0"
            ],
            [
             0.7,
             "#b8e186"
            ],
            [
             0.8,
             "#7fbc41"
            ],
            [
             0.9,
             "#4d9221"
            ],
            [
             1,
             "#276419"
            ]
           ],
           "sequential": [
            [
             0,
             "#0d0887"
            ],
            [
             0.1111111111111111,
             "#46039f"
            ],
            [
             0.2222222222222222,
             "#7201a8"
            ],
            [
             0.3333333333333333,
             "#9c179e"
            ],
            [
             0.4444444444444444,
             "#bd3786"
            ],
            [
             0.5555555555555556,
             "#d8576b"
            ],
            [
             0.6666666666666666,
             "#ed7953"
            ],
            [
             0.7777777777777778,
             "#fb9f3a"
            ],
            [
             0.8888888888888888,
             "#fdca26"
            ],
            [
             1,
             "#f0f921"
            ]
           ],
           "sequentialminus": [
            [
             0,
             "#0d0887"
            ],
            [
             0.1111111111111111,
             "#46039f"
            ],
            [
             0.2222222222222222,
             "#7201a8"
            ],
            [
             0.3333333333333333,
             "#9c179e"
            ],
            [
             0.4444444444444444,
             "#bd3786"
            ],
            [
             0.5555555555555556,
             "#d8576b"
            ],
            [
             0.6666666666666666,
             "#ed7953"
            ],
            [
             0.7777777777777778,
             "#fb9f3a"
            ],
            [
             0.8888888888888888,
             "#fdca26"
            ],
            [
             1,
             "#f0f921"
            ]
           ]
          },
          "colorway": [
           "#636efa",
           "#EF553B",
           "#00cc96",
           "#ab63fa",
           "#FFA15A",
           "#19d3f3",
           "#FF6692",
           "#B6E880",
           "#FF97FF",
           "#FECB52"
          ],
          "font": {
           "color": "#2a3f5f"
          },
          "geo": {
           "bgcolor": "white",
           "lakecolor": "white",
           "landcolor": "#E5ECF6",
           "showlakes": true,
           "showland": true,
           "subunitcolor": "white"
          },
          "hoverlabel": {
           "align": "left"
          },
          "hovermode": "closest",
          "mapbox": {
           "style": "light"
          },
          "paper_bgcolor": "white",
          "plot_bgcolor": "#E5ECF6",
          "polar": {
           "angularaxis": {
            "gridcolor": "white",
            "linecolor": "white",
            "ticks": ""
           },
           "bgcolor": "#E5ECF6",
           "radialaxis": {
            "gridcolor": "white",
            "linecolor": "white",
            "ticks": ""
           }
          },
          "scene": {
           "xaxis": {
            "backgroundcolor": "#E5ECF6",
            "gridcolor": "white",
            "gridwidth": 2,
            "linecolor": "white",
            "showbackground": true,
            "ticks": "",
            "zerolinecolor": "white"
           },
           "yaxis": {
            "backgroundcolor": "#E5ECF6",
            "gridcolor": "white",
            "gridwidth": 2,
            "linecolor": "white",
            "showbackground": true,
            "ticks": "",
            "zerolinecolor": "white"
           },
           "zaxis": {
            "backgroundcolor": "#E5ECF6",
            "gridcolor": "white",
            "gridwidth": 2,
            "linecolor": "white",
            "showbackground": true,
            "ticks": "",
            "zerolinecolor": "white"
           }
          },
          "shapedefaults": {
           "line": {
            "color": "#2a3f5f"
           }
          },
          "ternary": {
           "aaxis": {
            "gridcolor": "white",
            "linecolor": "white",
            "ticks": ""
           },
           "baxis": {
            "gridcolor": "white",
            "linecolor": "white",
            "ticks": ""
           },
           "bgcolor": "#E5ECF6",
           "caxis": {
            "gridcolor": "white",
            "linecolor": "white",
            "ticks": ""
           }
          },
          "title": {
           "x": 0.05
          },
          "xaxis": {
           "automargin": true,
           "gridcolor": "white",
           "linecolor": "white",
           "ticks": "",
           "title": {
            "standoff": 15
           },
           "zerolinecolor": "white",
           "zerolinewidth": 2
          },
          "yaxis": {
           "automargin": true,
           "gridcolor": "white",
           "linecolor": "white",
           "ticks": "",
           "title": {
            "standoff": 15
           },
           "zerolinecolor": "white",
           "zerolinewidth": 2
          }
         }
        },
        "title": {
         "text": "🎵 Song Popularity in Spotify Playlist"
        },
        "width": 1000,
        "xaxis": {
         "anchor": "y",
         "domain": [
          0,
          1
         ],
         "tickangle": 90,
         "title": {
          "text": "track_name"
         }
        },
        "yaxis": {
         "anchor": "x",
         "domain": [
          0,
          1
         ],
         "title": {
          "text": "popularity"
         }
        }
       }
      }
     },
     "metadata": {},
     "output_type": "display_data"
    }
   ],
   "source": [
    "import plotly.express as px\n",
    "\n",
    "fig = px.scatter(\n",
    "    df,\n",
    "    x=\"track_name\",\n",
    "    y=\"popularity\",\n",
    "    color=\"popularity\",\n",
    "    size=\"popularity\",\n",
    "    hover_data=[\"artist\", \"album\", \"release_date\"], \n",
    "    title=\"🎵 Song Popularity in Spotify Playlist\",\n",
    "    color_continuous_scale=\"Blues\"\n",
    ")\n",
    "\n",
    "# Rotate x-axis labels\n",
    "fig.update_layout(\n",
    "    xaxis=dict(tickangle=90),\n",
    "    height=1000,\n",
    "    width=1000\n",
    ")\n",
    "\n",
    "fig.show()\n"
   ]
  },
  {
   "cell_type": "code",
   "execution_count": null,
   "id": "87c8ffe7",
   "metadata": {},
   "outputs": [
    {
     "data": {
      "image/png": "[encoded data removed]",
      "text/plain": [
       "<Figure size 800x800 with 1 Axes>"
      ]
     },
     "metadata": {},
     "output_type": "display_data"
    }
   ],
   "source": [
    "import matplotlib.pyplot as plt\n",
    "\n",
    "popular_songs = df[df['popularity'] > 70]\n",
    "\n",
    "# Count songs per artist\n",
    "artist_popularity_counts = popular_songs['artist'].value_counts()\n",
    "\n",
    "# Plot pie chart\n",
    "plt.figure(figsize=(8,8))\n",
    "plt.pie(\n",
    "    artist_popularity_counts,\n",
    "    labels=artist_popularity_counts.index,\n",
    "    autopct='%1.1f%%',\n",
    "    startangle=140\n",
    ")\n",
    "plt.title(\"Artists with Songs Popularity > 70\")\n",
    "plt.show()\n",
    "\n"
   ]
  },
  {
   "cell_type": "code",
   "execution_count": null,
   "id": "fbe548dc",
   "metadata": {},
   "outputs": [
    {
     "name": "stdout",
     "output_type": "stream",
     "text": [
      "✅ Data saved to spotify_playlist_data.csv\n"
     ]
    }
   ],
   "source": [
    "# Save the dataframe to CSV\n",
    "df.to_csv(\"spotify_playlist_data.csv\", index=False)\n",
    "\n"
   ]
  }
 ],
 "metadata": {
  "kernelspec": {
   "display_name": "Python 3",
   "language": "python",
   "name": "python3"
  },
  "language_info": {
   "codemirror_mode": {
    "name": "ipython",
    "version": 3
   },
   "file_extension": ".py",
   "mimetype": "text/x-python",
   "name": "python",
   "nbconvert_exporter": "python",
   "pygments_lexer": "ipython3",
   "version": "3.13.5"
  }
 },
 "nbformat": 4,
 "nbformat_minor": 5
}
